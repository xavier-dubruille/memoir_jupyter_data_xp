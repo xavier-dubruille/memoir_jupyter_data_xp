{
 "cells": [
  {
   "cell_type": "code",
   "execution_count": 6,
   "metadata": {
    "pycharm": {
     "is_executing": false
    }
   },
   "outputs": [],
   "source": [
    "import matplotlib.pyplot as plt\n",
    "import numpy as np\n",
    "import pandas as pd\n",
    "\n",
    "from datetime import datetime\n",
    "\n",
    "%matplotlib inline"
   ]
  },
  {
   "cell_type": "markdown",
   "metadata": {},
   "source": [
    "J'ai downloadé le json sur l'interface de loraserver, puis, avec un peu de python et de vim, j'en ai fait un csv avec les données qui m'interessait.\n",
    "\n",
    "Mais j'aurais très bien pu tout faire en python et construire mon dataframe à partir du json, mais bon ...\n",
    "\n",
    "Quelques info si je le devais le faire:\n",
    ">>> import json\n",
    ">>> filename=\"d.json\"\n",
    ">>> with open(filename, 'r') as f:\n",
    ">>>     d = json.load(f)\n",
    ">>> for e in d:\n",
    "...     print(e['payload']['rxInfo'][0]['time'])   \n"
   ]
  },
  {
   "cell_type": "code",
   "execution_count": 7,
   "metadata": {
    "pycharm": {
     "is_executing": false
    }
   },
   "outputs": [],
   "source": [
    "df = pd.read_csv(\"40min.csv\",sep=',', parse_dates=['time'], index_col='time',\\\n",
    "                 date_parser=lambda x:datetime.strptime(x,'%H:%M:%S'))\n",
    "dc = df.cumsum().reset_index()\n"
   ]
  },
  {
   "cell_type": "code",
   "execution_count": 39,
   "metadata": {},
   "outputs": [],
   "source": [
    "# mean = pd.concat([dc[0:1], dc[-1:]])\n",
    "# mean.plot('time', 'packet')\n",
    "period = 30 # seconds\n",
    "no_loss = pd.concat([dc[0:1], dc[-1:]])\n",
    "\n",
    "timedelta = no_loss.iloc[-1].time - no_loss.iloc[0].time\n",
    "total_packet = timedelta.seconds // period\n",
    "no_loss = no_loss.set_index('time')\n",
    "no_loss.iloc[-1]=total_packet\n"
   ]
  },
  {
   "cell_type": "code",
   "execution_count": 40,
   "metadata": {
    "pycharm": {
     "is_executing": false
    }
   },
   "outputs": [
    {
     "data": {
      "image/png": "[encoded data removed]",
      "text/plain": [
       "<Figure size 432x288 with 1 Axes>"
      ]
     },
     "metadata": {
      "needs_background": "light"
     },
     "output_type": "display_data"
    }
   ],
   "source": [
    "\n",
    "no_loss.plot()\n",
    "plt.plot('time', 'packet', 'r-o', data=dc)\n",
    "plt.grid(True)\n",
    "plt.show()\n",
    "\n",
    "# add legend!  blue= packet if none was lost\n",
    "#              red= actual received packets\n",
    "\n",
    "# fix x axes labels: only minutes, starting at 0 with points snapted to the minutes\n",
    "\n",
    "# add equation of blue/red, how many losses ?"
   ]
  }
 ],
 "metadata": {
  "kernelspec": {
   "display_name": "Python 3",
   "language": "python",
   "name": "python3"
  },
  "language_info": {
   "codemirror_mode": {
    "name": "ipython",
    "version": 3
   },
   "file_extension": ".py",
   "mimetype": "text/x-python",
   "name": "python",
   "nbconvert_exporter": "python",
   "pygments_lexer": "ipython3",
   "version": "3.6.8"
  },
  "pycharm": {
   "stem_cell": {
    "cell_type": "raw",
    "metadata": {
     "collapsed": false
    },
    "source": []
   }
  }
 },
 "nbformat": 4,
 "nbformat_minor": 1
}
